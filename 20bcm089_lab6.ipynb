{
  "nbformat": 4,
  "nbformat_minor": 0,
  "metadata": {
    "colab": {
      "provenance": [],
      "collapsed_sections": []
    },
    "kernelspec": {
      "name": "python3",
      "display_name": "Python 3"
    },
    "language_info": {
      "name": "python"
    }
  },
  "cells": [
    {
      "cell_type": "code",
      "execution_count": 14,
      "metadata": {
        "id": "dpna9YfZT5zq"
      },
      "outputs": [],
      "source": [
        "from sklearn.datasets import load_iris\n",
        "from sklearn.model_selection import train_test_split\n",
        "from sklearn.naive_bayes import GaussianNB,MultinomialNB,BernoulliNB\n",
        "from sklearn.metrics import confusion_matrix, accuracy_score\n",
        "\n",
        "X, y = load_iris(return_X_y=True)\n",
        "X_train, X_test, y_train, y_test = train_test_split(X, y, test_size=0.5, random_state=0)\n"
      ]
    },
    {
      "cell_type": "code",
      "source": [
        "gnb = GaussianNB()\n",
        "y_pred_g = gnb.fit(X_train, y_train).predict(X_test)\n",
        "\n",
        "cm = confusion_matrix(y_test, y_pred_g)\n",
        "ac = accuracy_score(y_test, y_pred_g)\n",
        "print(\"confusion_matrix:\\n\",cm)\n",
        "print(\"\\naccuracy_score:\",ac)"
      ],
      "metadata": {
        "colab": {
          "base_uri": "https://localhost:8080/"
        },
        "id": "dkDE2qAKWDQh",
        "outputId": "46bdb6f0-00e5-4e3b-9fd1-9fe4c3eaa835"
      },
      "execution_count": 15,
      "outputs": [
        {
          "output_type": "stream",
          "name": "stdout",
          "text": [
            "confusion_matrix:\n",
            " [[21  0  0]\n",
            " [ 0 30  0]\n",
            " [ 0  4 20]]\n",
            "\n",
            "accuracy_score: 0.9466666666666667\n"
          ]
        }
      ]
    },
    {
      "cell_type": "code",
      "source": [
        "mnb = MultinomialNB()\n",
        "y_pred_m = mnb.fit(X_train, y_train).predict(X_test)\n",
        "\n",
        "cm = confusion_matrix(y_test, y_pred_m)\n",
        "ac = accuracy_score(y_test, y_pred_m)\n",
        "print(\"confusion_matrix:\\n\",cm)\n",
        "print(\"\\naccuracy_score:\",ac)"
      ],
      "metadata": {
        "colab": {
          "base_uri": "https://localhost:8080/"
        },
        "id": "7jIDVjgwWBvV",
        "outputId": "f4ca37b9-7f8d-469e-a243-219e437a5745"
      },
      "execution_count": 16,
      "outputs": [
        {
          "output_type": "stream",
          "name": "stdout",
          "text": [
            "confusion_matrix:\n",
            " [[21  0  0]\n",
            " [ 0  0 30]\n",
            " [ 0  0 24]]\n",
            "\n",
            "accuracy_score: 0.6\n"
          ]
        }
      ]
    },
    {
      "cell_type": "code",
      "source": [
        "bnb = BernoulliNB()\n",
        "y_pred_b = bnb.fit(X_train, y_train).predict(X_test)\n",
        "\n",
        "cm = confusion_matrix(y_test, y_pred_b)\n",
        "ac = accuracy_score(y_test, y_pred_b)\n",
        "print(\"confusion_matrix:\\n\",cm)\n",
        "print(\"\\naccuracy_score:\",ac)"
      ],
      "metadata": {
        "id": "_r6lbHNtVeIc",
        "colab": {
          "base_uri": "https://localhost:8080/"
        },
        "outputId": "bb0e80b5-608e-46c3-8c72-73738426b7f6"
      },
      "execution_count": 17,
      "outputs": [
        {
          "output_type": "stream",
          "name": "stdout",
          "text": [
            "confusion_matrix:\n",
            " [[21  0  0]\n",
            " [30  0  0]\n",
            " [24  0  0]]\n",
            "\n",
            "accuracy_score: 0.28\n"
          ]
        }
      ]
    }
  ]
}